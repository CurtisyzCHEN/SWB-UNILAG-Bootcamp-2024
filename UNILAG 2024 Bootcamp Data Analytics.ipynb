{
 "cells": [
  {
   "cell_type": "markdown",
   "id": "c7310206",
   "metadata": {},
   "source": [
    "# Data Analytics Workshop UNILAG Bootcamp 2024\n",
    "Welcome, everyone! Thank you for joining this workshop on data analytics. Today, we're embarking on a practical journey to understand how to harness the power of data using Python and Jupyter Notebook. Whether you're aiming to shift your career towards data science or simply want to enhance your analytical skills, you're in the right place.\n",
    "\n",
    "**What is Data Analytics?**\n",
    "Data analytics is the science of analyzing raw data to make conclusions about that information. It involves applying an algorithmic or mechanical process to derive insights and running through various data analysis processes to make it suitable for use. In today's data-driven world, analytics is a powerful tool across a multitude of industries, from healthcare to finance and beyond.\n",
    "\n",
    "**Workshop Stucture**\n",
    "Our workshop is structured into three interactive modules, each designed to build upon the last, ensuring a comprehensive understanding of each topic:\n",
    "- **Types of Data:** We'll start by identifying different types of data you will encounter. Knowing whether data is structured or unstructured will help you choose the appropriate analysis or processing method.\n",
    "- **Data Collection:** Next, we will dive into methods for collecting data:\n",
    "    - **Scraping:** Use APIs to fetch data from external services.\n",
    "    - **APIs:** Use APIs to fetch data from external services.\n",
    "- **Data Cleaning with Pandas:** Finally, we will use the Python library pandas to clean and prepare our data. This stage is crucial for ensuring the accuracy of your analyses.\n",
    "\n",
    "\n",
    "### Step 1 Setting the enviroment\n",
    "Since we are going to use pandas for data cleaning, we need to make sure the enviroment has been successfully set up."
   ]
  },
  {
   "cell_type": "code",
   "execution_count": 3,
   "id": "97bdd696",
   "metadata": {},
   "outputs": [
    {
     "name": "stdout",
     "output_type": "stream",
     "text": [
      "Requirement already satisfied: pandas in c:\\users\\yizho\\anaconda3\\lib\\site-packages (2.1.4)\n",
      "Requirement already satisfied: numpy<2,>=1.23.2 in c:\\users\\yizho\\anaconda3\\lib\\site-packages (from pandas) (1.26.4)\n",
      "Requirement already satisfied: python-dateutil>=2.8.2 in c:\\users\\yizho\\anaconda3\\lib\\site-packages (from pandas) (2.8.2)\n",
      "Requirement already satisfied: pytz>=2020.1 in c:\\users\\yizho\\anaconda3\\lib\\site-packages (from pandas) (2023.3.post1)\n",
      "Requirement already satisfied: tzdata>=2022.1 in c:\\users\\yizho\\anaconda3\\lib\\site-packages (from pandas) (2023.3)\n",
      "Requirement already satisfied: six>=1.5 in c:\\users\\yizho\\anaconda3\\lib\\site-packages (from python-dateutil>=2.8.2->pandas) (1.16.0)\n",
      "Note: you may need to restart the kernel to use updated packages.\n"
     ]
    }
   ],
   "source": [
    "pip install pandas\n",
    "# using pip install pandas package"
   ]
  },
  {
   "cell_type": "code",
   "execution_count": 6,
   "id": "c0a08830",
   "metadata": {},
   "outputs": [
    {
     "name": "stdout",
     "output_type": "stream",
     "text": [
      "Requirement already satisfied: numpy in c:\\users\\yizho\\anaconda3\\lib\\site-packages (1.26.4)\n"
     ]
    }
   ],
   "source": [
    "!pip install numpy\n",
    "# numpy pakage might also be useful when we are analysing numerical data."
   ]
  },
  {
   "cell_type": "markdown",
   "id": "28e1bd6a",
   "metadata": {},
   "source": [
    "### Step 2 Loading Data"
   ]
  },
  {
   "cell_type": "markdown",
   "id": "aa3acf68",
   "metadata": {},
   "source": [
    "In this course, we will using the [National Longitudinal Phone Survey 2021-2023\n",
    "Phase 2](https://microdata.worldbank.org/index.php/catalog/4444/study-description) data set from the World Bank,"
   ]
  },
  {
   "cell_type": "code",
   "execution_count": null,
   "id": "6073debd",
   "metadata": {},
   "outputs": [],
   "source": []
  },
  {
   "cell_type": "markdown",
   "id": "9ad61173",
   "metadata": {},
   "source": [
    "### Types of Data\n",
    "**Numerical Data**\n",
    "- Continuous Data: Data that can take any value within a continuous range. Examples include temperature, income, or distance.\n",
    "- Discrete Data: Data that can only take integer values, usually as a result of counting. Examples include the number of employees in a company, the number of customers in a store, or the number of defective products.\n",
    "\n",
    "**Categorical Data**\n",
    "- AKA qualitative data, refers to data that is grouped into categories or classes which are typically nominal or ordinal in nature. These categories represent qualitative attributes and are distinctly separate from each other.\n",
    "\n",
    "**Ordinal Data**\n",
    "- This is a special type of categorical data where the categories have a natural order or ranking, but the intervals between the categories are unknown or unquantifiable. Examples include customer satisfaction ratings such as \"dissatisfied\", \"neutral\", \"satisfied\", and \"very satisfied\".\n",
    "\n",
    "**Time Series Data:**\n",
    "- Data points arranged in order of time, commonly used to analyze trends, seasonal variations, or forecasts. Examples include daily sales figures, monthly visitor counts, or annual financial reports.\n",
    "\n",
    "**Spatial Data:**\n",
    "- Data related to geographic locations, commonly used for mapping, location services, and geospatial analysis. Examples include geographic coordinates, urban planning data, or the location data of mobile devices.\n",
    "\n",
    "**Text Data:**\n",
    "- Typically refers to data in written language form, which can be unstructured, such as reports, emails, and social media posts. Text data analysis may include topic modeling, sentiment analysis, etc.\n",
    "\n",
    "**Multimedia Data:**\n",
    "- Includes image, audio, and video data. These types of data usually require complex processing techniques, such as computer vision and natural language processing technologies."
   ]
  },
  {
   "cell_type": "code",
   "execution_count": null,
   "id": "b939216a",
   "metadata": {},
   "outputs": [],
   "source": []
  },
  {
   "cell_type": "code",
   "execution_count": null,
   "id": "6761f30e",
   "metadata": {},
   "outputs": [],
   "source": []
  },
  {
   "cell_type": "code",
   "execution_count": null,
   "id": "72ac4292",
   "metadata": {},
   "outputs": [],
   "source": []
  },
  {
   "cell_type": "markdown",
   "id": "00057ade",
   "metadata": {},
   "source": [
    "### Step 3: Common Data Cleaning Process( Using Pandas)\n",
    "- **Handling Missing Values:** Generally, there are two ways to handel missing data, removing them or filling them. This could be discussed case by case."
   ]
  },
  {
   "cell_type": "code",
   "execution_count": null,
   "id": "7a7647a8",
   "metadata": {},
   "outputs": [],
   "source": []
  },
  {
   "cell_type": "code",
   "execution_count": null,
   "id": "611fc3fd",
   "metadata": {},
   "outputs": [],
   "source": []
  },
  {
   "cell_type": "markdown",
   "id": "81a326b1",
   "metadata": {},
   "source": [
    "- **Removing Duplicates:** Sometimes, some of the observations can be recorded for multiple times, expecially for those data sets collected by multiple data collectors. Thus, "
   ]
  },
  {
   "cell_type": "code",
   "execution_count": null,
   "id": "cbfc5272",
   "metadata": {},
   "outputs": [],
   "source": []
  },
  {
   "cell_type": "code",
   "execution_count": null,
   "id": "a0b0c6d8",
   "metadata": {},
   "outputs": [],
   "source": []
  },
  {
   "cell_type": "markdown",
   "id": "92bead29",
   "metadata": {},
   "source": [
    "- **Renaming Cloumns:**"
   ]
  },
  {
   "cell_type": "code",
   "execution_count": null,
   "id": "75f6f2c3",
   "metadata": {},
   "outputs": [],
   "source": []
  },
  {
   "cell_type": "code",
   "execution_count": null,
   "id": "48396a94",
   "metadata": {},
   "outputs": [],
   "source": []
  },
  {
   "cell_type": "markdown",
   "id": "fd34415c",
   "metadata": {},
   "source": [
    "- **Filters:** "
   ]
  },
  {
   "cell_type": "code",
   "execution_count": null,
   "id": "adb72f53",
   "metadata": {},
   "outputs": [],
   "source": []
  },
  {
   "cell_type": "code",
   "execution_count": null,
   "id": "adcf4915",
   "metadata": {},
   "outputs": [],
   "source": []
  },
  {
   "cell_type": "markdown",
   "id": "3f2cdc7c",
   "metadata": {},
   "source": [
    "- **Creating new columns(Based on current columns):**"
   ]
  },
  {
   "cell_type": "code",
   "execution_count": null,
   "id": "a2d8a9d0",
   "metadata": {},
   "outputs": [],
   "source": []
  },
  {
   "cell_type": "code",
   "execution_count": null,
   "id": "a2a5d41b",
   "metadata": {},
   "outputs": [],
   "source": []
  },
  {
   "cell_type": "markdown",
   "id": "531563e4",
   "metadata": {},
   "source": [
    "- **Saving CLeaned Data:** "
   ]
  },
  {
   "cell_type": "code",
   "execution_count": null,
   "id": "17b50bd3",
   "metadata": {},
   "outputs": [],
   "source": []
  },
  {
   "cell_type": "code",
   "execution_count": null,
   "id": "03f9899e",
   "metadata": {},
   "outputs": [],
   "source": []
  },
  {
   "cell_type": "code",
   "execution_count": null,
   "id": "3ea9d069",
   "metadata": {},
   "outputs": [],
   "source": []
  },
  {
   "cell_type": "code",
   "execution_count": null,
   "id": "27868a67",
   "metadata": {},
   "outputs": [],
   "source": []
  }
 ],
 "metadata": {
  "kernelspec": {
   "display_name": "Python 3 (ipykernel)",
   "language": "python",
   "name": "python3"
  },
  "language_info": {
   "codemirror_mode": {
    "name": "ipython",
    "version": 3
   },
   "file_extension": ".py",
   "mimetype": "text/x-python",
   "name": "python",
   "nbconvert_exporter": "python",
   "pygments_lexer": "ipython3",
   "version": "3.11.7"
  }
 },
 "nbformat": 4,
 "nbformat_minor": 5
}

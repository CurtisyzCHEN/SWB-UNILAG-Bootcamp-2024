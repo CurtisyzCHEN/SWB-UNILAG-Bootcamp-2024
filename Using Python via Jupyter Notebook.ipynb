{
 "cells": [
  {
   "cell_type": "markdown",
   "id": "cfccdede",
   "metadata": {},
   "source": [
    "# Using Python by Jupyter Notebook"
   ]
  },
  {
   "cell_type": "markdown",
   "id": "3b5b61ee",
   "metadata": {},
   "source": [
    "Yizhou(Curtis) Chen\\\n",
    "yizhouchen.curtis@gmail.com"
   ]
  },
  {
   "cell_type": "markdown",
   "id": "98769127",
   "metadata": {},
   "source": [
    "In this file, we are going to introduce some fundamental python code via Jupyter Notebook. "
   ]
  },
  {
   "cell_type": "markdown",
   "id": "70f51429",
   "metadata": {},
   "source": [
    "## 1.Hellow World"
   ]
  },
  {
   "cell_type": "markdown",
   "id": "cbf2558c",
   "metadata": {},
   "source": [
    "Like every programming language, we will start from the code \"print()\""
   ]
  },
  {
   "cell_type": "code",
   "execution_count": 1,
   "id": "50778ef3",
   "metadata": {
    "scrolled": true
   },
   "outputs": [
    {
     "name": "stdout",
     "output_type": "stream",
     "text": [
      "Hello and Welcome to UNILAG Summer Bootcamp 2024!\n"
     ]
    }
   ],
   "source": [
    "print(\"Hello and Welcome to UNILAG Summer Bootcamp 2024!\")"
   ]
  },
  {
   "cell_type": "markdown",
   "id": "009e2d61",
   "metadata": {},
   "source": [
    "## 2.Variables and Data Types"
   ]
  },
  {
   "cell_type": "markdown",
   "id": "437d1694",
   "metadata": {},
   "source": [
    "Explaining how to store information in variables and the basic data types in Python: strings, integers, and floats."
   ]
  },
  {
   "cell_type": "code",
   "execution_count": 2,
   "id": "21f80ac6",
   "metadata": {},
   "outputs": [
    {
     "name": "stdout",
     "output_type": "stream",
     "text": [
      "John\n"
     ]
    }
   ],
   "source": [
    "# Strings\n",
    "name = \"John\"\n",
    "print(name)\n",
    "# When storing strings, you need to use \"\"."
   ]
  },
  {
   "cell_type": "code",
   "execution_count": 3,
   "id": "2c6c3deb",
   "metadata": {},
   "outputs": [
    {
     "name": "stdout",
     "output_type": "stream",
     "text": [
      "30\n",
      "5.9\n"
     ]
    }
   ],
   "source": [
    "# Integers\n",
    "age = 30\n",
    "print(age)\n",
    "\n",
    "# Floating number\n",
    "height = 5.9\n",
    "print(height)\n",
    "\n",
    "# For integres, all we need to do just directly plugin."
   ]
  },
  {
   "cell_type": "markdown",
   "id": "b25151ba",
   "metadata": {},
   "source": [
    "## 3.Lists and Dictionaries"
   ]
  },
  {
   "cell_type": "markdown",
   "id": "32cdb3a3",
   "metadata": {},
   "source": [
    "Explaining how to store information in variables and the basic data types in Python: strings, integers, and floats.\\\n",
    "PS: In Python, lists are indexed starting from 0. This means that the first element of a list is assigned index 0, following a common programming convention known as \"zero-based indexing.\""
   ]
  },
  {
   "cell_type": "code",
   "execution_count": 4,
   "id": "683c3785",
   "metadata": {},
   "outputs": [
    {
     "name": "stdout",
     "output_type": "stream",
     "text": [
      "red\n"
     ]
    }
   ],
   "source": [
    "# Lists\n",
    "colors = [\"red\", \"green\", \"blue\"]\n",
    "print(colors[0])  # Accessing the first item in the list"
   ]
  },
  {
   "cell_type": "code",
   "execution_count": 5,
   "id": "55971c9f",
   "metadata": {},
   "outputs": [
    {
     "name": "stdout",
     "output_type": "stream",
     "text": [
      "green\n"
     ]
    }
   ],
   "source": [
    "print(colors[1])"
   ]
  },
  {
   "cell_type": "code",
   "execution_count": 6,
   "id": "82c14b8c",
   "metadata": {},
   "outputs": [
    {
     "name": "stdout",
     "output_type": "stream",
     "text": [
      "blue\n"
     ]
    }
   ],
   "source": [
    "print(colors[2])"
   ]
  },
  {
   "cell_type": "markdown",
   "id": "183dd2e1",
   "metadata": {},
   "source": [
    "### 3.1 Dictionaries"
   ]
  },
  {
   "cell_type": "markdown",
   "id": "9d17f27d",
   "metadata": {},
   "source": [
    "In Python, dictionaries are a built-in data structure designed to store key-value pairs. Each key is associated with a value, and you can access the value by referencing its key. This makes dictionaries highly efficient for data retrieval, especially when quick access to specific elements is needed.\\\n",
    "**Key Features**\n",
    "* **Keys must be unique:** In any given dictionary, each key appears only once.\n",
    "* **Values can be of any type:** The values in a dictionary can be numbers, strings, lists, or even other dictionaries.\n",
    "* **Unordered:** Up to Python 3.7, dictionaries were unordered. As of Python 3.7, dictionaries maintain the order of insertion, but their fundamental implementation does not consider the order of elements.\n",
    "* **Mutable:** Dictionaries are mutable, meaning you can add, modify, or remove key-value pairs after the dictionary is created."
   ]
  },
  {
   "cell_type": "code",
   "execution_count": 38,
   "id": "53db388b",
   "metadata": {},
   "outputs": [
    {
     "name": "stdout",
     "output_type": "stream",
     "text": [
      "Alice\n"
     ]
    }
   ],
   "source": [
    "# Method_1 \n",
    "# Using {} to stor information, and using ':' to link the name of variable.\n",
    "person_0 = {\"name\": \"Alice\", \"age\": 25, \"city\":'Washington D.C.'}\n",
    "print(person[\"name\"])  # Accessing value of key 'name'"
   ]
  },
  {
   "cell_type": "code",
   "execution_count": 13,
   "id": "f8b68141",
   "metadata": {},
   "outputs": [
    {
     "name": "stdout",
     "output_type": "stream",
     "text": [
      "Curtis\n"
     ]
    }
   ],
   "source": [
    "# Method_2\n",
    "# Applying dinc() function\n",
    "person_1 = dict(name='Curtis', age=25, city='Edinburgh')\n",
    "print(person_1[\"name\"])"
   ]
  },
  {
   "cell_type": "markdown",
   "id": "15b87447",
   "metadata": {},
   "source": [
    "## 4.Control Structures "
   ]
  },
  {
   "cell_type": "markdown",
   "id": "91ed45c0",
   "metadata": {},
   "source": [
    "Basic control structures in Python for branching and looping."
   ]
  },
  {
   "cell_type": "markdown",
   "id": "9f7438de",
   "metadata": {},
   "source": [
    "### If Statements "
   ]
  },
  {
   "cell_type": "code",
   "execution_count": 14,
   "id": "cf553065",
   "metadata": {},
   "outputs": [
    {
     "name": "stdout",
     "output_type": "stream",
     "text": [
      "You are an adult.\n"
     ]
    }
   ],
   "source": [
    "if age > 18:\n",
    "    print(\"You are an adult.\")\n",
    "else:\n",
    "    print(\"You are a minor.\")"
   ]
  },
  {
   "cell_type": "markdown",
   "id": "49ba4ec4",
   "metadata": {},
   "source": [
    "### For Loops "
   ]
  },
  {
   "cell_type": "code",
   "execution_count": 15,
   "id": "963baefb",
   "metadata": {},
   "outputs": [
    {
     "name": "stdout",
     "output_type": "stream",
     "text": [
      "red\n",
      "green\n",
      "blue\n"
     ]
    }
   ],
   "source": [
    "for color in colors:\n",
    "    print(color)"
   ]
  },
  {
   "cell_type": "markdown",
   "id": "87f310dd",
   "metadata": {},
   "source": [
    "## 5.Functions "
   ]
  },
  {
   "cell_type": "markdown",
   "id": "beffacff",
   "metadata": {},
   "source": [
    "How to define and call functions, a cornerstone of modular and maintainable coding."
   ]
  },
  {
   "cell_type": "code",
   "execution_count": 39,
   "id": "798ac2d6",
   "metadata": {},
   "outputs": [],
   "source": [
    "def describe_person(person):\n",
    "    # Check if the 'age' key exists and the person is an adult\n",
    "    if 'age' in person and person['age'] >= 18:\n",
    "        return f\"{person['name']} is an adult.\"\n",
    "    else:\n",
    "        return f\"{person['name']} is not an adult.\""
   ]
  },
  {
   "cell_type": "code",
   "execution_count": 40,
   "id": "4062e60d",
   "metadata": {},
   "outputs": [
    {
     "name": "stdout",
     "output_type": "stream",
     "text": [
      "Alice is an adult.\n"
     ]
    }
   ],
   "source": [
    "print(describe_person(person_0))"
   ]
  },
  {
   "cell_type": "markdown",
   "id": "f3ad8e80",
   "metadata": {},
   "source": [
    "## 6.Reading and Writing Files "
   ]
  },
  {
   "cell_type": "markdown",
   "id": "5bcc66b3",
   "metadata": {},
   "source": [
    "Demonstrating how to handle file input and output, crucial for many applications."
   ]
  },
  {
   "cell_type": "code",
   "execution_count": 17,
   "id": "e984cc8d",
   "metadata": {},
   "outputs": [
    {
     "name": "stdout",
     "output_type": "stream",
     "text": [
      "Hello, World!\n"
     ]
    }
   ],
   "source": [
    "# Writing to a file\n",
    "with open(\"test.txt\", \"w\") as file:\n",
    "    file.write(\"Hello, World!\")\n",
    "\n",
    "# Reading from a file\n",
    "with open(\"test.txt\", \"r\") as file:\n",
    "    content = file.read()\n",
    "    print(content)"
   ]
  },
  {
   "cell_type": "markdown",
   "id": "53968462",
   "metadata": {},
   "source": [
    "## 7. Error Handing "
   ]
  },
  {
   "cell_type": "markdown",
   "id": "46dcd0ba",
   "metadata": {},
   "source": [
    "Introducing the concept of handling exceptions with try-except blocks."
   ]
  },
  {
   "cell_type": "code",
   "execution_count": 18,
   "id": "07242a3e",
   "metadata": {},
   "outputs": [
    {
     "name": "stdout",
     "output_type": "stream",
     "text": [
      "Division by zero is not allowed.\n"
     ]
    }
   ],
   "source": [
    "try:\n",
    "    # This will raise an error if 'b' is zero\n",
    "    a = 10 / 0\n",
    "except ZeroDivisionError:\n",
    "    print(\"Division by zero is not allowed.\")"
   ]
  },
  {
   "cell_type": "markdown",
   "id": "d30cfeb3",
   "metadata": {},
   "source": [
    "## 8.Using Libraries "
   ]
  },
  {
   "cell_type": "markdown",
   "id": "eb8578f4",
   "metadata": {},
   "source": [
    "Show how to import libraries and use functions from them, for instance, the math library."
   ]
  },
  {
   "cell_type": "code",
   "execution_count": 19,
   "id": "39aa1321",
   "metadata": {},
   "outputs": [
    {
     "name": "stdout",
     "output_type": "stream",
     "text": [
      "4.0\n"
     ]
    }
   ],
   "source": [
    "import math\n",
    "print(math.sqrt(16))  # Prints the square root of 16"
   ]
  },
  {
   "cell_type": "code",
   "execution_count": 20,
   "id": "fde6495a",
   "metadata": {},
   "outputs": [
    {
     "data": {
      "text/plain": [
       "4.0"
      ]
     },
     "execution_count": 20,
     "metadata": {},
     "output_type": "execute_result"
    }
   ],
   "source": [
    "math.sqrt(16)\n",
    "# You will still got the answer, but just not gonna print out"
   ]
  },
  {
   "cell_type": "code",
   "execution_count": 33,
   "id": "828dfda7",
   "metadata": {},
   "outputs": [
    {
     "name": "stdout",
     "output_type": "stream",
     "text": [
      "Requirement already satisfied: jupyter in c:\\users\\yizho\\anaconda3\\lib\\site-packages (1.0.0)\n",
      "Requirement already satisfied: numpy in c:\\users\\yizho\\anaconda3\\lib\\site-packages (1.26.4)\n",
      "Requirement already satisfied: notebook in c:\\users\\yizho\\anaconda3\\lib\\site-packages (from jupyter) (6.5.4)\n",
      "Requirement already satisfied: qtconsole in c:\\users\\yizho\\anaconda3\\lib\\site-packages (from jupyter) (5.4.2)\n",
      "Requirement already satisfied: jupyter-console in c:\\users\\yizho\\anaconda3\\lib\\site-packages (from jupyter) (6.6.3)\n",
      "Requirement already satisfied: nbconvert in c:\\users\\yizho\\anaconda3\\lib\\site-packages (from jupyter) (7.10.0)\n",
      "Requirement already satisfied: ipykernel in c:\\users\\yizho\\anaconda3\\lib\\site-packages (from jupyter) (6.28.0)\n",
      "Requirement already satisfied: ipywidgets in c:\\users\\yizho\\anaconda3\\lib\\site-packages (from jupyter) (7.6.5)\n",
      "Requirement already satisfied: comm>=0.1.1 in c:\\users\\yizho\\anaconda3\\lib\\site-packages (from ipykernel->jupyter) (0.1.2)\n",
      "Requirement already satisfied: debugpy>=1.6.5 in c:\\users\\yizho\\anaconda3\\lib\\site-packages (from ipykernel->jupyter) (1.6.7)\n",
      "Requirement already satisfied: ipython>=7.23.1 in c:\\users\\yizho\\anaconda3\\lib\\site-packages (from ipykernel->jupyter) (8.20.0)\n",
      "Requirement already satisfied: jupyter-client>=6.1.12 in c:\\users\\yizho\\anaconda3\\lib\\site-packages (from ipykernel->jupyter) (7.4.9)\n",
      "Requirement already satisfied: jupyter-core!=5.0.*,>=4.12 in c:\\users\\yizho\\anaconda3\\lib\\site-packages (from ipykernel->jupyter) (5.5.0)\n",
      "Requirement already satisfied: matplotlib-inline>=0.1 in c:\\users\\yizho\\anaconda3\\lib\\site-packages (from ipykernel->jupyter) (0.1.6)\n",
      "Requirement already satisfied: nest-asyncio in c:\\users\\yizho\\anaconda3\\lib\\site-packages (from ipykernel->jupyter) (1.6.0)\n",
      "Requirement already satisfied: packaging in c:\\users\\yizho\\anaconda3\\lib\\site-packages (from ipykernel->jupyter) (23.1)\n",
      "Requirement already satisfied: psutil in c:\\users\\yizho\\anaconda3\\lib\\site-packages (from ipykernel->jupyter) (5.9.0)\n",
      "Requirement already satisfied: pyzmq>=24 in c:\\users\\yizho\\anaconda3\\lib\\site-packages (from ipykernel->jupyter) (24.0.1)\n",
      "Requirement already satisfied: tornado>=6.1 in c:\\users\\yizho\\anaconda3\\lib\\site-packages (from ipykernel->jupyter) (6.3.3)\n",
      "Requirement already satisfied: traitlets>=5.4.0 in c:\\users\\yizho\\anaconda3\\lib\\site-packages (from ipykernel->jupyter) (5.7.1)\n",
      "Requirement already satisfied: ipython-genutils~=0.2.0 in c:\\users\\yizho\\anaconda3\\lib\\site-packages (from ipywidgets->jupyter) (0.2.0)\n",
      "Requirement already satisfied: nbformat>=4.2.0 in c:\\users\\yizho\\anaconda3\\lib\\site-packages (from ipywidgets->jupyter) (5.9.2)\n",
      "Requirement already satisfied: widgetsnbextension~=3.5.0 in c:\\users\\yizho\\anaconda3\\lib\\site-packages (from ipywidgets->jupyter) (3.5.2)\n",
      "Requirement already satisfied: jupyterlab-widgets>=1.0.0 in c:\\users\\yizho\\anaconda3\\lib\\site-packages (from ipywidgets->jupyter) (3.0.9)\n",
      "Requirement already satisfied: prompt-toolkit>=3.0.30 in c:\\users\\yizho\\anaconda3\\lib\\site-packages (from jupyter-console->jupyter) (3.0.43)\n",
      "Requirement already satisfied: pygments in c:\\users\\yizho\\anaconda3\\lib\\site-packages (from jupyter-console->jupyter) (2.15.1)\n",
      "Requirement already satisfied: beautifulsoup4 in c:\\users\\yizho\\anaconda3\\lib\\site-packages (from nbconvert->jupyter) (4.12.2)\n",
      "Requirement already satisfied: bleach!=5.0.0 in c:\\users\\yizho\\anaconda3\\lib\\site-packages (from nbconvert->jupyter) (4.1.0)\n",
      "Requirement already satisfied: defusedxml in c:\\users\\yizho\\anaconda3\\lib\\site-packages (from nbconvert->jupyter) (0.7.1)\n",
      "Requirement already satisfied: jinja2>=3.0 in c:\\users\\yizho\\anaconda3\\lib\\site-packages (from nbconvert->jupyter) (3.1.3)\n",
      "Requirement already satisfied: jupyterlab-pygments in c:\\users\\yizho\\anaconda3\\lib\\site-packages (from nbconvert->jupyter) (0.1.2)\n",
      "Requirement already satisfied: markupsafe>=2.0 in c:\\users\\yizho\\anaconda3\\lib\\site-packages (from nbconvert->jupyter) (2.1.3)\n",
      "Requirement already satisfied: mistune<4,>=2.0.3 in c:\\users\\yizho\\anaconda3\\lib\\site-packages (from nbconvert->jupyter) (2.0.4)\n",
      "Requirement already satisfied: nbclient>=0.5.0 in c:\\users\\yizho\\anaconda3\\lib\\site-packages (from nbconvert->jupyter) (0.8.0)\n",
      "Requirement already satisfied: pandocfilters>=1.4.1 in c:\\users\\yizho\\anaconda3\\lib\\site-packages (from nbconvert->jupyter) (1.5.0)\n",
      "Requirement already satisfied: tinycss2 in c:\\users\\yizho\\anaconda3\\lib\\site-packages (from nbconvert->jupyter) (1.2.1)\n",
      "Requirement already satisfied: argon2-cffi in c:\\users\\yizho\\anaconda3\\lib\\site-packages (from notebook->jupyter) (21.3.0)\n",
      "Requirement already satisfied: Send2Trash>=1.8.0 in c:\\users\\yizho\\anaconda3\\lib\\site-packages (from notebook->jupyter) (1.8.2)\n",
      "Requirement already satisfied: terminado>=0.8.3 in c:\\users\\yizho\\anaconda3\\lib\\site-packages (from notebook->jupyter) (0.17.1)\n",
      "Requirement already satisfied: prometheus-client in c:\\users\\yizho\\anaconda3\\lib\\site-packages (from notebook->jupyter) (0.14.1)\n",
      "Requirement already satisfied: nbclassic>=0.4.7 in c:\\users\\yizho\\anaconda3\\lib\\site-packages (from notebook->jupyter) (1.0.0)\n",
      "Requirement already satisfied: qtpy>=2.0.1 in c:\\users\\yizho\\anaconda3\\lib\\site-packages (from qtconsole->jupyter) (2.4.1)\n",
      "Requirement already satisfied: six>=1.9.0 in c:\\users\\yizho\\anaconda3\\lib\\site-packages (from bleach!=5.0.0->nbconvert->jupyter) (1.16.0)\n",
      "Requirement already satisfied: webencodings in c:\\users\\yizho\\anaconda3\\lib\\site-packages (from bleach!=5.0.0->nbconvert->jupyter) (0.5.1)\n",
      "Requirement already satisfied: decorator in c:\\users\\yizho\\anaconda3\\lib\\site-packages (from ipython>=7.23.1->ipykernel->jupyter) (5.1.1)\n",
      "Requirement already satisfied: jedi>=0.16 in c:\\users\\yizho\\anaconda3\\lib\\site-packages (from ipython>=7.23.1->ipykernel->jupyter) (0.18.1)\n",
      "Requirement already satisfied: stack-data in c:\\users\\yizho\\anaconda3\\lib\\site-packages (from ipython>=7.23.1->ipykernel->jupyter) (0.2.0)\n",
      "Requirement already satisfied: colorama in c:\\users\\yizho\\anaconda3\\lib\\site-packages (from ipython>=7.23.1->ipykernel->jupyter) (0.4.6)\n",
      "Requirement already satisfied: entrypoints in c:\\users\\yizho\\anaconda3\\lib\\site-packages (from jupyter-client>=6.1.12->ipykernel->jupyter) (0.4)\n",
      "Requirement already satisfied: python-dateutil>=2.8.2 in c:\\users\\yizho\\anaconda3\\lib\\site-packages (from jupyter-client>=6.1.12->ipykernel->jupyter) (2.8.2)\n",
      "Requirement already satisfied: platformdirs>=2.5 in c:\\users\\yizho\\anaconda3\\lib\\site-packages (from jupyter-core!=5.0.*,>=4.12->ipykernel->jupyter) (3.10.0)\n",
      "Requirement already satisfied: pywin32>=300 in c:\\users\\yizho\\anaconda3\\lib\\site-packages (from jupyter-core!=5.0.*,>=4.12->ipykernel->jupyter) (305.1)\n",
      "Requirement already satisfied: jupyter-server>=1.8 in c:\\users\\yizho\\anaconda3\\lib\\site-packages (from nbclassic>=0.4.7->notebook->jupyter) (2.10.0)\n",
      "Requirement already satisfied: notebook-shim>=0.2.3 in c:\\users\\yizho\\anaconda3\\lib\\site-packages (from nbclassic>=0.4.7->notebook->jupyter) (0.2.3)\n",
      "Requirement already satisfied: fastjsonschema in c:\\users\\yizho\\anaconda3\\lib\\site-packages (from nbformat>=4.2.0->ipywidgets->jupyter) (2.16.2)\n",
      "Requirement already satisfied: jsonschema>=2.6 in c:\\users\\yizho\\anaconda3\\lib\\site-packages (from nbformat>=4.2.0->ipywidgets->jupyter) (4.19.2)\n",
      "Requirement already satisfied: wcwidth in c:\\users\\yizho\\anaconda3\\lib\\site-packages (from prompt-toolkit>=3.0.30->jupyter-console->jupyter) (0.2.5)\n",
      "Requirement already satisfied: pywinpty>=1.1.0 in c:\\users\\yizho\\anaconda3\\lib\\site-packages (from terminado>=0.8.3->notebook->jupyter) (2.0.10)\n",
      "Requirement already satisfied: argon2-cffi-bindings in c:\\users\\yizho\\anaconda3\\lib\\site-packages (from argon2-cffi->notebook->jupyter) (21.2.0)\n",
      "Requirement already satisfied: soupsieve>1.2 in c:\\users\\yizho\\anaconda3\\lib\\site-packages (from beautifulsoup4->nbconvert->jupyter) (2.5)\n",
      "Requirement already satisfied: parso<0.9.0,>=0.8.0 in c:\\users\\yizho\\anaconda3\\lib\\site-packages (from jedi>=0.16->ipython>=7.23.1->ipykernel->jupyter) (0.8.3)\n",
      "Requirement already satisfied: attrs>=22.2.0 in c:\\users\\yizho\\anaconda3\\lib\\site-packages (from jsonschema>=2.6->nbformat>=4.2.0->ipywidgets->jupyter) (23.1.0)\n",
      "Requirement already satisfied: jsonschema-specifications>=2023.03.6 in c:\\users\\yizho\\anaconda3\\lib\\site-packages (from jsonschema>=2.6->nbformat>=4.2.0->ipywidgets->jupyter) (2023.7.1)\n",
      "Requirement already satisfied: referencing>=0.28.4 in c:\\users\\yizho\\anaconda3\\lib\\site-packages (from jsonschema>=2.6->nbformat>=4.2.0->ipywidgets->jupyter) (0.30.2)\n",
      "Requirement already satisfied: rpds-py>=0.7.1 in c:\\users\\yizho\\anaconda3\\lib\\site-packages (from jsonschema>=2.6->nbformat>=4.2.0->ipywidgets->jupyter) (0.10.6)\n",
      "Requirement already satisfied: anyio>=3.1.0 in c:\\users\\yizho\\anaconda3\\lib\\site-packages (from jupyter-server>=1.8->nbclassic>=0.4.7->notebook->jupyter) (4.2.0)\n",
      "Requirement already satisfied: jupyter-events>=0.6.0 in c:\\users\\yizho\\anaconda3\\lib\\site-packages (from jupyter-server>=1.8->nbclassic>=0.4.7->notebook->jupyter) (0.8.0)\n",
      "Requirement already satisfied: jupyter-server-terminals in c:\\users\\yizho\\anaconda3\\lib\\site-packages (from jupyter-server>=1.8->nbclassic>=0.4.7->notebook->jupyter) (0.4.4)\n",
      "Requirement already satisfied: overrides in c:\\users\\yizho\\anaconda3\\lib\\site-packages (from jupyter-server>=1.8->nbclassic>=0.4.7->notebook->jupyter) (7.4.0)\n",
      "Requirement already satisfied: websocket-client in c:\\users\\yizho\\anaconda3\\lib\\site-packages (from jupyter-server>=1.8->nbclassic>=0.4.7->notebook->jupyter) (0.58.0)\n",
      "Requirement already satisfied: cffi>=1.0.1 in c:\\users\\yizho\\anaconda3\\lib\\site-packages (from argon2-cffi-bindings->argon2-cffi->notebook->jupyter) (1.16.0)\n",
      "Requirement already satisfied: executing in c:\\users\\yizho\\anaconda3\\lib\\site-packages (from stack-data->ipython>=7.23.1->ipykernel->jupyter) (0.8.3)\n",
      "Requirement already satisfied: asttokens in c:\\users\\yizho\\anaconda3\\lib\\site-packages (from stack-data->ipython>=7.23.1->ipykernel->jupyter) (2.0.5)\n",
      "Requirement already satisfied: pure-eval in c:\\users\\yizho\\anaconda3\\lib\\site-packages (from stack-data->ipython>=7.23.1->ipykernel->jupyter) (0.2.2)\n",
      "Requirement already satisfied: idna>=2.8 in c:\\users\\yizho\\anaconda3\\lib\\site-packages (from anyio>=3.1.0->jupyter-server>=1.8->nbclassic>=0.4.7->notebook->jupyter) (3.4)\n",
      "Requirement already satisfied: sniffio>=1.1 in c:\\users\\yizho\\anaconda3\\lib\\site-packages (from anyio>=3.1.0->jupyter-server>=1.8->nbclassic>=0.4.7->notebook->jupyter) (1.3.0)\n",
      "Requirement already satisfied: pycparser in c:\\users\\yizho\\anaconda3\\lib\\site-packages (from cffi>=1.0.1->argon2-cffi-bindings->argon2-cffi->notebook->jupyter) (2.21)\n",
      "Requirement already satisfied: python-json-logger>=2.0.4 in c:\\users\\yizho\\anaconda3\\lib\\site-packages (from jupyter-events>=0.6.0->jupyter-server>=1.8->nbclassic>=0.4.7->notebook->jupyter) (2.0.7)\n",
      "Requirement already satisfied: pyyaml>=5.3 in c:\\users\\yizho\\anaconda3\\lib\\site-packages (from jupyter-events>=0.6.0->jupyter-server>=1.8->nbclassic>=0.4.7->notebook->jupyter) (6.0.1)\n",
      "Requirement already satisfied: rfc3339-validator in c:\\users\\yizho\\anaconda3\\lib\\site-packages (from jupyter-events>=0.6.0->jupyter-server>=1.8->nbclassic>=0.4.7->notebook->jupyter) (0.1.4)\n",
      "Requirement already satisfied: rfc3986-validator>=0.1.1 in c:\\users\\yizho\\anaconda3\\lib\\site-packages (from jupyter-events>=0.6.0->jupyter-server>=1.8->nbclassic>=0.4.7->notebook->jupyter) (0.1.1)\n",
      "Requirement already satisfied: fqdn in c:\\users\\yizho\\anaconda3\\lib\\site-packages (from jsonschema[format-nongpl]>=4.18.0->jupyter-events>=0.6.0->jupyter-server>=1.8->nbclassic>=0.4.7->notebook->jupyter) (1.5.1)\n",
      "Requirement already satisfied: isoduration in c:\\users\\yizho\\anaconda3\\lib\\site-packages (from jsonschema[format-nongpl]>=4.18.0->jupyter-events>=0.6.0->jupyter-server>=1.8->nbclassic>=0.4.7->notebook->jupyter) (20.11.0)\n",
      "Requirement already satisfied: jsonpointer>1.13 in c:\\users\\yizho\\anaconda3\\lib\\site-packages (from jsonschema[format-nongpl]>=4.18.0->jupyter-events>=0.6.0->jupyter-server>=1.8->nbclassic>=0.4.7->notebook->jupyter) (2.1)\n",
      "Requirement already satisfied: uri-template in c:\\users\\yizho\\anaconda3\\lib\\site-packages (from jsonschema[format-nongpl]>=4.18.0->jupyter-events>=0.6.0->jupyter-server>=1.8->nbclassic>=0.4.7->notebook->jupyter) (1.3.0)\n",
      "Requirement already satisfied: webcolors>=1.11 in c:\\users\\yizho\\anaconda3\\lib\\site-packages (from jsonschema[format-nongpl]>=4.18.0->jupyter-events>=0.6.0->jupyter-server>=1.8->nbclassic>=0.4.7->notebook->jupyter) (1.13)\n",
      "Requirement already satisfied: arrow>=0.15.0 in c:\\users\\yizho\\anaconda3\\lib\\site-packages (from isoduration->jsonschema[format-nongpl]>=4.18.0->jupyter-events>=0.6.0->jupyter-server>=1.8->nbclassic>=0.4.7->notebook->jupyter) (1.2.3)\n"
     ]
    }
   ],
   "source": [
    "!pip install jupyter numpy\n",
    "# Installing the numpy package via pip install\n",
    "# In Jupyter notebooks, the exclamation mark \"! is used to run shell commands from within the notebook cells. \n",
    "# This special character tells Jupyter to execute the subsequent string as a command in the system shell, \n",
    "rather than as Python code."
   ]
  },
  {
   "cell_type": "code",
   "execution_count": 29,
   "id": "2b813bf2",
   "metadata": {},
   "outputs": [],
   "source": [
    "import numpy as np"
   ]
  },
  {
   "cell_type": "code",
   "execution_count": 30,
   "id": "4714050f",
   "metadata": {},
   "outputs": [
    {
     "name": "stdout",
     "output_type": "stream",
     "text": [
      "[[0.00654785 0.48295117 0.16660202]\n",
      " [0.25921553 0.23368076 0.9844875 ]]\n"
     ]
    }
   ],
   "source": [
    "# Create a 2x3 array of random numbers\n",
    "array = np.random.rand(2, 3)\n",
    "print(array)"
   ]
  },
  {
   "cell_type": "code",
   "execution_count": 31,
   "id": "fad38e43",
   "metadata": {},
   "outputs": [
    {
     "name": "stdout",
     "output_type": "stream",
     "text": [
      "[[0.06547854 4.82951175 1.66602016]\n",
      " [2.5921553  2.33680761 9.84487502]]\n",
      "Mean of the array: 0.3555808061796035\n"
     ]
    }
   ],
   "source": [
    "# Perform element-wise multiplication\n",
    "multiplied_array = array * 10\n",
    "print(multiplied_array)\n",
    "\n",
    "# Calculate the mean of all elements\n",
    "mean_value = np.mean(array)\n",
    "print(\"Mean of the array:\", mean_value)"
   ]
  }
 ],
 "metadata": {
  "kernelspec": {
   "display_name": "Python 3 (ipykernel)",
   "language": "python",
   "name": "python3"
  },
  "language_info": {
   "codemirror_mode": {
    "name": "ipython",
    "version": 3
   },
   "file_extension": ".py",
   "mimetype": "text/x-python",
   "name": "python",
   "nbconvert_exporter": "python",
   "pygments_lexer": "ipython3",
   "version": "3.11.7"
  }
 },
 "nbformat": 4,
 "nbformat_minor": 5
}
